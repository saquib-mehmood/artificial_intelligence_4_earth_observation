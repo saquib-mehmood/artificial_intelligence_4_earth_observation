{
 "cells": [
  {
   "cell_type": "markdown",
   "metadata": {},
   "source": [
    "<center><img src='../../img/ai4eo_logos.jpg' alt='Logos AI4EO MOOC' width='80%'></img></center>"
   ]
  },
  {
   "cell_type": "markdown",
   "metadata": {},
   "source": [
    "<hr>"
   ]
  },
  {
   "cell_type": "markdown",
   "metadata": {},
   "source": [
    "<br>"
   ]
  },
  {
   "cell_type": "markdown",
   "metadata": {},
   "source": [
    "<a href=\"https://www.futurelearn.com/courses/artificial-intelligence-for-earth-monitoring/1/steps/1291928\"><< Back to FutureLearn</a><br>"
   ]
  },
  {
   "cell_type": "markdown",
   "metadata": {},
   "source": [
    "# Aesthetics Aware Reinforcement Learning for Image Cropping - Functions"
   ]
  },
  {
   "cell_type": "markdown",
   "metadata": {},
   "source": [
    "<i>by Carlos Fortuny-Lombraña, EUMETSAT, Darmstadt, Germany</i>"
   ]
  },
  {
   "cell_type": "markdown",
   "metadata": {},
   "source": [
    "<hr>"
   ]
  },
  {
   "cell_type": "markdown",
   "metadata": {},
   "source": [
    "Functions:\n",
    "* [command2action](#command2action)\n",
    "* [generate_bbox](#generate_bbox)\n",
    "* [crop_input](#crop_input)\n",
    "* [conv](#conv)"
   ]
  },
  {
   "cell_type": "markdown",
   "metadata": {},
   "source": [
    "<hr>"
   ]
  },
  {
   "cell_type": "markdown",
   "metadata": {},
   "source": [
    "#### Import libraries"
   ]
  },
  {
   "cell_type": "code",
   "execution_count": null,
   "metadata": {},
   "outputs": [],
   "source": [
    "## BEGIN S3FS IMPORT SNIPPET ##\n",
    "import os, sys\n",
    "s3_home =  os.getcwd()\n",
    "try: sys.path.remove(s3_home) # REMOVE THE S3 ROOT FROM THE $PATH\n",
    "except Exception: pass\n",
    "\n",
    "current_dir = os.getcwd()\n",
    "os.chdir('/home/jovyan') # TEMPORARILY MOVE TO ANOTHER DIRECTORY\n",
    "\n",
    "# BEGIN IMPORTS #\n",
    "# Remove warning messages\n",
    "import warnings # a library to manage warnings\n",
    "warnings.filterwarnings(\"ignore\", category=DeprecationWarning)\n",
    "\n",
    "# Python packages\n",
    "import tensorflow.compat.v1 as tf #Importing the TensorFlow Version 1 for ML\n",
    "tf.compat.v1.logging.set_verbosity(tf.compat.v1.logging.ERROR)  #Remove all the error messages due to TensorFlow\n",
    "tf.disable_v2_behavior() # Disable Tensorflow Version 2\n",
    "import keras # a high-level neural networks library\n",
    "import numpy as np # Python's array manipulation library \n",
    "import skimage.transform as transform # a library that cointains a collection of algorithms for image processing\n",
    "# END IMPORTS #\n",
    "\n",
    "os.chdir(current_dir) # GO BACK TO YOUR PREVIOUS DIRECTORY\n",
    "\n",
    "sys.path.append(s3_home) # RESTORE THE S3 ROOT IN THE $PATH\n",
    "## END S3FS IMPORT SNIPPET ##"
   ]
  },
  {
   "cell_type": "markdown",
   "metadata": {},
   "source": [
    "<hr>"
   ]
  },
  {
   "cell_type": "markdown",
   "metadata": {},
   "source": [
    "### <a id='command2action'></a> `command2action`"
   ]
  },
  {
   "cell_type": "code",
   "execution_count": null,
   "metadata": {},
   "outputs": [],
   "source": [
    "def command2action(command_ids, ratios, terminals):\n",
    "    batch_size = len(command_ids)\n",
    "    for i in range(batch_size):\n",
    "        if terminals[i] == 1:\n",
    "            continue\n",
    "        if command_ids[i] == 0:\n",
    "            ratios[i, 0] += 1\n",
    "            ratios[i, 1] += 1\n",
    "            ratios[i, 2] -= 1\n",
    "            ratios[i, 3] -= 1\n",
    "        elif command_ids[i] == 1:\n",
    "            ratios[i, 2] -= 1\n",
    "            ratios[i, 3] -= 1\n",
    "        elif command_ids[i] == 2:\n",
    "            ratios[i, 0] += 1\n",
    "            ratios[i, 3] -= 1\n",
    "        elif command_ids[i] == 3:\n",
    "            ratios[i, 1] += 1\n",
    "            ratios[i, 2] -= 1\n",
    "        elif command_ids[i] == 4:\n",
    "            ratios[i, 0] += 1\n",
    "            ratios[i, 1] += 1\n",
    "        elif command_ids[i] == 5:\n",
    "            ratios[i, 0] += 1\n",
    "            ratios[i, 2] += 1\n",
    "        elif command_ids[i] == 6:\n",
    "            ratios[i, 0] -= 1\n",
    "            ratios[i, 2] -= 1\n",
    "        elif command_ids[i] == 7:\n",
    "            ratios[i, 1] -= 1\n",
    "            ratios[i, 3] -= 1\n",
    "        elif command_ids[i] == 8:\n",
    "            ratios[i, 1] += 1\n",
    "            ratios[i, 3] += 1\n",
    "        elif command_ids[i] == 9:\n",
    "            ratios[i, 1] += 1\n",
    "            ratios[i, 3] -= 1\n",
    "        elif command_ids[i] == 10:\n",
    "            ratios[i, 0] += 1\n",
    "            ratios[i, 2] -= 1\n",
    "        elif command_ids[i] == 11:\n",
    "            ratios[i, 1] -= 1\n",
    "            ratios[i, 3] += 1\n",
    "        elif command_ids[i] == 12:\n",
    "            ratios[i, 0] -= 1\n",
    "            ratios[i, 2] += 1\n",
    "        elif command_ids[i] == 13:\n",
    "            terminals[i] = 1\n",
    "        else:\n",
    "            raise NameError('undefined command type !!!')\n",
    "\n",
    "        ratios = np.maximum(ratios, 0)\n",
    "        ratios = np.minimum(ratios, 20)\n",
    "        if ratios[i, 2] - ratios[i, 0] <= 4 or ratios[i, 3] - ratios[i, 1] <= 4:\n",
    "            terminals[i] = 1\n",
    "\n",
    "    return ratios, terminals"
   ]
  },
  {
   "cell_type": "markdown",
   "metadata": {},
   "source": [
    "<hr>"
   ]
  },
  {
   "cell_type": "markdown",
   "metadata": {},
   "source": [
    "### <a id='generate_bbox'></a> `generate_bbox`"
   ]
  },
  {
   "cell_type": "code",
   "execution_count": null,
   "metadata": {},
   "outputs": [],
   "source": [
    "def generate_bbox(input_np, ratios):\n",
    "    assert len(input_np) == len(ratios)\n",
    "\n",
    "    bbox = []\n",
    "    for im, ratio in zip(input_np, ratios):\n",
    "        height, width = im.shape[:2]\n",
    "        xmin = int(float(ratio[0]) / 20 * width)\n",
    "        ymin = int(float(ratio[1]) / 20 * height)\n",
    "        xmax = int(float(ratio[2]) / 20 * width)\n",
    "        ymax = int(float(ratio[3]) / 20 * height)\n",
    "        \n",
    "        bbox.append((xmin, ymin, xmax, ymax))\n",
    "        \n",
    "    return bbox"
   ]
  },
  {
   "cell_type": "markdown",
   "metadata": {},
   "source": [
    "<hr>"
   ]
  },
  {
   "cell_type": "markdown",
   "metadata": {},
   "source": [
    "### <a id='crop_input'></a> `crop_input`"
   ]
  },
  {
   "cell_type": "code",
   "execution_count": null,
   "metadata": {},
   "outputs": [],
   "source": [
    "def crop_input(input_np, bbox):\n",
    "        assert len(input_np) == len(bbox)\n",
    "    \n",
    "        result = [transform.resize(im[ymin:ymax, xmin:xmax], (227, 227), mode='constant')\n",
    "                        for im, (xmin, ymin, xmax, ymax) in zip(input_np, bbox)]\n",
    "    \n",
    "        return np.asarray(result, dtype=np.float32)"
   ]
  },
  {
   "cell_type": "markdown",
   "metadata": {},
   "source": [
    "<hr>"
   ]
  },
  {
   "cell_type": "markdown",
   "metadata": {},
   "source": [
    "### <a id='conv'></a> `conv`"
   ]
  },
  {
   "cell_type": "code",
   "execution_count": null,
   "metadata": {},
   "outputs": [],
   "source": [
    "def conv(input, kernel, biases, k_h, k_w, c_o, s_h, s_w,  padding=\"VALID\", group=1):\n",
    "    # Taken from https://github.com/ethereon/caffe-tensorflow\n",
    "    convolve = lambda i, k: tf.nn.conv2d(i, k, [1, s_h, s_w, 1], padding=padding)\n",
    "\n",
    "    if group==1:\n",
    "        conv = convolve(input, kernel)\n",
    "    else:\n",
    "        input_groups = tf.split(input, group, 3)\n",
    "        kernel_groups = tf.split(kernel, group, 3)\n",
    "        output_groups = [convolve(i, k) for i,k in zip(input_groups, kernel_groups)]\n",
    "        conv = tf.concat(output_groups, 3)\n",
    "    return  tf.nn.bias_add(conv, biases)"
   ]
  },
  {
   "cell_type": "markdown",
   "metadata": {},
   "source": [
    "<br>"
   ]
  },
  {
   "cell_type": "markdown",
   "metadata": {},
   "source": [
    "<a href=\"https://www.futurelearn.com/courses/artificial-intelligence-for-earth-monitoring/1/steps/1291928\"><< Back to FutureLearn</a><br>"
   ]
  },
  {
   "cell_type": "markdown",
   "metadata": {},
   "source": [
    "<hr>"
   ]
  },
  {
   "cell_type": "markdown",
   "metadata": {},
   "source": [
    "<img src='../../img/copernicus_logo.png' alt='Copernicus logo' align='left' width='20%'></img>"
   ]
  },
  {
   "cell_type": "markdown",
   "metadata": {},
   "source": [
    "Course developed for [EUMETSAT](https://www.eumetsat.int/), [ECMWF](https://www.ecmwf.int/) and [Mercator Ocean International](https://www.mercator-ocean.fr/en/) in support of the [EU’s Copernicus Programme](https://www.copernicus.eu/en) and the [WEkEO platform](https://wekeo.eu/).\n"
   ]
  }
 ],
 "metadata": {
  "kernelspec": {
   "display_name": "machine-learning",
   "language": "python",
   "name": "machine-learning"
  },
  "language_info": {
   "codemirror_mode": {
    "name": "ipython",
    "version": 3
   },
   "file_extension": ".py",
   "mimetype": "text/x-python",
   "name": "python",
   "nbconvert_exporter": "python",
   "pygments_lexer": "ipython3",
   "version": "3.8.10"
  }
 },
 "nbformat": 4,
 "nbformat_minor": 5
}
